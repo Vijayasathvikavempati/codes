{
 "cells": [
  {
   "cell_type": "code",
   "execution_count": 9,
   "id": "9c151c9a-f45c-4aba-a28f-2495b49e0498",
   "metadata": {},
   "outputs": [
    {
     "name": "stdin",
     "output_type": "stream",
     "text": [
      "one value 10 \n",
      "two value 20\n"
     ]
    },
    {
     "name": "stdout",
     "output_type": "stream",
     "text": [
      "30\n"
     ]
    }
   ],
   "source": [
    "#sum pf two values\n",
    "a=int(input(\"one value\"))\n",
    "b=int(input(\"two value\"))\n",
    "c=a+b\n",
    "print(c)"
   ]
  },
  {
   "cell_type": "code",
   "execution_count": 17,
   "id": "f562192c-7dda-4d3e-b449-742331e2e2cd",
   "metadata": {},
   "outputs": [
    {
     "name": "stdin",
     "output_type": "stream",
     "text": [
      "values 10 20 30 300 400 500 050\n"
     ]
    }
   ],
   "source": [
    "#to read multipple values\n",
    "a=map(int,input(\"values\").split())"
   ]
  },
  {
   "cell_type": "code",
   "execution_count": 1,
   "id": "401634b0-5cab-454b-8926-3328c6411ef6",
   "metadata": {},
   "outputs": [
    {
     "name": "stdin",
     "output_type": "stream",
     "text": [
      "values 10 20\n"
     ]
    },
    {
     "name": "stdout",
     "output_type": "stream",
     "text": [
      "30\n"
     ]
    }
   ],
   "source": [
    "#sum of two numbers reading in single line\n",
    "a,b=map(int,input(\"values\").split())\n",
    "c=a+b\n",
    "print(c)"
   ]
  },
  {
   "cell_type": "code",
   "execution_count": 8,
   "id": "fe0e0f6a-07e4-4819-bc41-7c700a568f91",
   "metadata": {},
   "outputs": [
    {
     "name": "stdin",
     "output_type": "stream",
     "text": [
      "Enter value 14\n"
     ]
    },
    {
     "name": "stdout",
     "output_type": "stream",
     "text": [
      "14 Divisible by 7\n"
     ]
    }
   ],
   "source": [
    "#divisible by 7\n",
    "i=int(input(\"Enter value\"))\n",
    "if i%7==0:\n",
    "    print(i, \"Divisible by 7\")\n",
    "else:\n",
    "    print(\"Not Divisible by 7\")"
   ]
  },
  {
   "cell_type": "code",
   "execution_count": 13,
   "id": "2e008bcb-7f63-4c2d-81dd-159e8efe0df3",
   "metadata": {},
   "outputs": [
    {
     "name": "stdin",
     "output_type": "stream",
     "text": [
      "enter value 6\n"
     ]
    },
    {
     "name": "stdout",
     "output_type": "stream",
     "text": [
      "6 multiple of 3\n"
     ]
    }
   ],
   "source": [
    "#multiple of 3\n",
    "i=int(input(\"enter value\"))\n",
    "if i%3==0:\n",
    "    print(i, \"multiple of 3\")\n",
    "else:\n",
    "    print(\"not multiple by 3\")\n",
    "    "
   ]
  },
  {
   "cell_type": "code",
   "execution_count": 20,
   "id": "23422dae-00d4-4389-bb2e-8c50727f2c2d",
   "metadata": {},
   "outputs": [
    {
     "name": "stdin",
     "output_type": "stream",
     "text": [
      " 62942385692\n"
     ]
    },
    {
     "name": "stdout",
     "output_type": "stream",
     "text": [
      "positive number\n"
     ]
    }
   ],
   "source": [
    "#number to check positive or negative \n",
    "i=int(input())\n",
    "if i>=0:\n",
    "    print(\"positive number\")\n",
    "else:\n",
    "    print(\"negative number\")"
   ]
  },
  {
   "cell_type": "code",
   "execution_count": 44,
   "id": "293c9d9a-31a9-48f8-91a2-29d2214161e0",
   "metadata": {},
   "outputs": [
    {
     "name": "stdin",
     "output_type": "stream",
     "text": [
      "enter value 7\n"
     ]
    },
    {
     "name": "stdout",
     "output_type": "stream",
     "text": [
      "seven\n"
     ]
    }
   ],
   "source": [
    "#number into string\n",
    "i=int(input(\"enter value\"))\n",
    "if i==0:\n",
    "    print(\"zero\")\n",
    "elif i==1:\n",
    "    print(\"one\")\n",
    "elif i==2:\n",
    "    print(\"two\")\n",
    "elif i==3:\n",
    "    print(\"three\")\n",
    "elif i==4:\n",
    "    print(\"four\")\n",
    "elif i==5:\n",
    "    print(\"Five\")\n",
    "elif i==6:\n",
    "    print(\"six\")\n",
    "elif i==7:\n",
    "    print(\"seven\")\n",
    "elif i==8:\n",
    "    print(\"eight\")\n",
    "elif i==9:\n",
    "    print(\"nine\")\n",
    "else:\n",
    "    print(\"no define\")\n"
   ]
  },
  {
   "cell_type": "code",
   "execution_count": 1,
   "id": "a2faff21-1dcf-49b3-a997-ad4d63ee64a2",
   "metadata": {},
   "outputs": [
    {
     "name": "stdin",
     "output_type": "stream",
     "text": [
      "Enter 3-digit value: 123444444444\n"
     ]
    }
   ],
   "source": [
    "#check 3-digit number or not\n",
    "i=int(input(\"Enter 3-digit value:\"))\n",
    "if i<=100 and i>=999:\n",
    "    print(i)\n",
    "else:\n",
    "    print(\"Exceeds 3\")"
   ]
  }
 ],
 "metadata": {
  "kernelspec": {
   "display_name": "Python 3 (ipykernel)",
   "language": "python",
   "name": "python3"
  },
  "language_info": {
   "codemirror_mode": {
    "name": "ipython",
    "version": 3
   },
   "file_extension": ".py",
   "mimetype": "text/x-python",
   "name": "python",
   "nbconvert_exporter": "python",
   "pygments_lexer": "ipython3",
   "version": "3.11.5"
  }
 },
 "nbformat": 4,
 "nbformat_minor": 5
}
